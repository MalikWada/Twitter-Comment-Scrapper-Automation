{
 "cells": [
  {
   "cell_type": "code",
   "execution_count": 1,
   "id": "71ed1529-237a-4ff4-b0fc-6f84ab25fea9",
   "metadata": {},
   "outputs": [],
   "source": [
    "import os\n",
    "import pandas as pd\n"
   ]
  },
  {
   "cell_type": "code",
   "execution_count": 12,
   "id": "5e9f58ff-3113-4ded-84e5-bfa782ae32d7",
   "metadata": {},
   "outputs": [],
   "source": [
    "# Directory where all the CSV files are located\n",
    "csv_directory = r'Telcel'"
   ]
  },
  {
   "cell_type": "code",
   "execution_count": 13,
   "id": "7a53e8c7-5e2a-46d4-849f-5fe8032c3c30",
   "metadata": {},
   "outputs": [],
   "source": [
    "csv_list = []"
   ]
  },
  {
   "cell_type": "code",
   "execution_count": 14,
   "id": "430437c6-e508-4493-af12-619d985ec17f",
   "metadata": {},
   "outputs": [],
   "source": [
    "# Iterate over all CSV files in the directory\n",
    "for file_name in os.listdir(csv_directory):\n",
    "    if file_name.endswith('.csv'):\n",
    "        file_path = os.path.join(csv_directory, file_name)\n",
    "        df = pd.read_csv(file_path)\n",
    "        csv_list.append(df)"
   ]
  },
  {
   "cell_type": "code",
   "execution_count": 15,
   "id": "b72d0deb-702e-45f5-9fec-edfe2d207403",
   "metadata": {},
   "outputs": [],
   "source": [
    "combined_csv = pd.concat(csv_list, ignore_index=True)"
   ]
  },
  {
   "cell_type": "code",
   "execution_count": 17,
   "id": "982a7923-34e1-4683-91c8-89ef33ee6b0a",
   "metadata": {},
   "outputs": [
    {
     "name": "stdout",
     "output_type": "stream",
     "text": [
      "Combined CSV saved succesfully \n"
     ]
    }
   ],
   "source": [
    "# Save the combined DataFrame to a new CSV file\n",
    "combined_csv.to_csv('lalal.csv', index=False, encoding='utf-8-sig')\n",
    "print(f\"Combined CSV saved succesfully \")"
   ]
  },
  {
   "cell_type": "code",
   "execution_count": null,
   "id": "8ce2900a-e491-4f7a-a089-bd3e4a1154f5",
   "metadata": {},
   "outputs": [],
   "source": []
  }
 ],
 "metadata": {
  "kernelspec": {
   "display_name": "Python 3 (ipykernel)",
   "language": "python",
   "name": "python3"
  },
  "language_info": {
   "codemirror_mode": {
    "name": "ipython",
    "version": 3
   },
   "file_extension": ".py",
   "mimetype": "text/x-python",
   "name": "python",
   "nbconvert_exporter": "python",
   "pygments_lexer": "ipython3",
   "version": "3.12.4"
  }
 },
 "nbformat": 4,
 "nbformat_minor": 5
}
